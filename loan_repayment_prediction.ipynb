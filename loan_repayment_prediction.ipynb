{
 "cells": [
  {
   "cell_type": "markdown",
   "id": "f7ab5c79",
   "metadata": {},
   "source": [
    "# Loan Repayment Prediction\n",
    "\n",
    "This notebook demonstrates the steps to preprocess data, explore features, and build a predictive model for student loan repayment using neural networks."
   ]
  },
  {
   "cell_type": "code",
   "execution_count": null,
   "id": "b229ecfe",
   "metadata": {},
   "outputs": [],
   "source": [
    "import pandas as pd\n",
    "import numpy as np\n",
    "import matplotlib.pyplot as plt\n",
    "import seaborn as sns\n",
    "\n",
    "# Load the dataset with column descriptions\n",
    "# This file provides metadata about the columns in the dataset.\n",
    "data_info = pd.read_csv('.../DATA/lending_club_info.csv', index_col='LoanStatNew')\n",
    "print(data_info.loc['revol_util']['Descripton'])\n",
    "\n",
    "def feat_info(col_name):\n",
    "    \"\"\"Function to print feature information.\"\"\"\n",
    "    print(data_info.loc[col_name]['Descripton'])\n",
    "\n",
    "feat_info('mort_acc')  # Display description of 'mort_acc'\n",
    "\n",
    "# Load the main dataset\n",
    "df = pd.read_csv('.../DATA/lending_club_info.csv')\n",
    "df.info()  # View dataset info"
   ]
  },
  {
   "cell_type": "code",
   "execution_count": null,
   "id": "c0020034",
   "metadata": {},
   "outputs": [],
   "source": [
    "# Countplot for loan status\n",
    "sns.countplot(x='loan_status', data=df)\n",
    "\n",
    "# Distribution of loan amounts\n",
    "plt.figure(figsize=(12, 4))\n",
    "sns.histplot(x='loan_amnt', kde=False, bins=40)"
   ]
  },
  {
   "cell_type": "code",
   "execution_count": null,
   "id": "4e599220",
   "metadata": {},
   "outputs": [],
   "source": [
    "# Correlation heatmap\n",
    "plt.figure(figsize=(12, 6))\n",
    "sns.heatmap(df.corr(), annot=True, cmap='viridis')\n",
    "plt.yticks(rotation=0)"
   ]
  },
  {
   "cell_type": "code",
   "execution_count": null,
   "id": "f13cf0f7",
   "metadata": {},
   "outputs": [],
   "source": [
    "# Feature info and scatter plot\n",
    "feat_info('installment')\n",
    "feat_info('loan_amnt')\n",
    "sns.scatterplot(x='installment', y='loan_amnt', data=df)\n",
    "\n",
    "# Boxplot for loan status vs. loan amount\n",
    "sns.boxplot(x='loan_status', y='loan_amnt', data=df)\n",
    "\n",
    "# Summary statistics grouped by loan status\n",
    "df.groupby('loan_status')['loan_amnt'].describe()"
   ]
  },
  {
   "cell_type": "code",
   "execution_count": null,
   "id": "512bf937",
   "metadata": {},
   "outputs": [],
   "source": [
    "# Unique values in 'grade' and 'sub_grade'\n",
    "df['grade'].unique()\n",
    "df['sub_grade'].unique()\n",
    "feat_info('sub_grade')\n",
    "\n",
    "# Countplot for grades with loan status as hue\n",
    "sns.countplot(x='grade', data=df, hue='loan_status')"
   ]
  },
  {
   "cell_type": "code",
   "execution_count": null,
   "id": "42b13d81",
   "metadata": {},
   "outputs": [],
   "source": [
    "# Countplot for sub-grades\n",
    "plt.figure(figsize=(12, 4))\n",
    "sub_order = sorted(df['sub_grade'].unique())\n",
    "sns.countplot(x='sub_grade', data=df, order=sub_order, palette='coolwarm', hue='loan_status')"
   ]
  },
  {
   "cell_type": "code",
   "execution_count": null,
   "id": "3e7336b3",
   "metadata": {},
   "outputs": [],
   "source": [
    "# Focus on grades F and G\n",
    "f_and_g = df[(df['grade'] == 'G') | (df['grade'] == 'F')]\n",
    "plt.figure(figsize=(12, 4))\n",
    "sns.countplot(x='sub_grade', data=f_and_g, palette='coolwarm', hue='loan_status')"
   ]
  },
  {
   "cell_type": "code",
   "execution_count": null,
   "id": "18d40d7c",
   "metadata": {},
   "outputs": [],
   "source": [
    "# Map loan status to binary labels\n",
    "df['loan_repaid'] = df['loan_status'].map({'Fully Paid': 1, 'Charged Off': 0})\n",
    "\n",
    "# Check correlation with loan_repaid\n",
    "df.corr()['loan_repaid'].sort_values().drop('loan_repaid').plot(kind='bar')"
   ]
  },
  {
   "cell_type": "code",
   "execution_count": null,
   "id": "1270a88e",
   "metadata": {},
   "outputs": [],
   "source": [
    "# Handling missing data\n",
    "100 * df.isnull().sum() / len(df)\n",
    "\n",
    "# Drop 'emp_title' as it's high-cardinality\n",
    "df = df.drop('emp_title', axis=1)\n",
    "\n",
    "# Visualize employment length distribution\n",
    "emp_order = sorted(df['emp_length'].dropna().unique())\n",
    "plt.figure(figsize=(12, 4))\n",
    "sns.countplot(x='emp_length', data=df, order=emp_order, hue='loan_status')"
   ]
  },
  {
   "cell_type": "code",
   "execution_count": null,
   "id": "90453cda",
   "metadata": {},
   "outputs": [],
   "source": [
    "# Calculate ratios for employment length\n",
    "df = df.drop('emp_length', axis=1)\n",
    "df.isnull().sum()\n",
    "\n",
    "# Drop 'title' (redundant with 'purpose')\n",
    "df = df.drop('title', axis=1)\n",
    "\n",
    "# Handle missing values in 'mort_acc'\n",
    "total_acc_avg = df.groupby('total_acc').mean()['mort_acc']\n",
    "\n",
    "def fill_mort_acc(total_acc_, mort_acc_):\n",
    "    if np.isnan(mort_acc_):\n",
    "        return total_acc_avg[total_acc_]\n",
    "    else:\n",
    "        return mort_acc_\n",
    "\n",
    "df['mort_acc'] = df.apply(lambda x: fill_mort_acc(x['total_acc'], x['mort_acc']), axis=1)\n",
    "df.isnull().sum()\n",
    "df = df.dropna()"
   ]
  },
  {
   "cell_type": "code",
   "execution_count": null,
   "id": "78194b00",
   "metadata": {},
   "outputs": [],
   "source": [
    "# Encode categorical variables\n",
    "df['term'] = df['term'].apply(lambda x: int(x[:3]))\n",
    "df = pd.get_dummies(df, columns=['sub_grade'], drop_first=True)\n",
    "df = pd.get_dummies(df, columns=['verification_status', 'application_type', 'initial_list_status', 'purpose'], drop_first=True)\n",
    "\n",
    "# Simplify 'home_ownership' categories\n",
    "df['home_ownership'] = df['home_ownership'].replace(['NONE', 'ANY'], 'OTHER')\n",
    "df = pd.get_dummies(df, columns=['home_ownership'], drop_first=True)\n",
    "\n",
    "# Extract zip code from address\n",
    "df['zip_code'] = df['address'].apply(lambda x: x[-5:])\n",
    "df = pd.get_dummies(df, columns=['zip_code'], drop_first=True)\n",
    "df = df.drop('address', axis=1)\n",
    "\n",
    "# Handle 'issue_d' and 'earliest_cr_line'\n",
    "df = df.drop('issue_d', axis=1)\n",
    "df['earliest_cr_line'] = df['earliest_cr_line'].apply(lambda x: int(x[-4:]))"
   ]
  },
  {
   "cell_type": "code",
   "execution_count": null,
   "id": "5742894e",
   "metadata": {},
   "outputs": [],
   "source": [
    "# Prepare data for training\n",
    "from sklearn.model_selection import train_test_split\n",
    "from sklearn.preprocessing import MinMaxScaler\n",
    "\n",
    "x = df.drop(['loan_status', 'loan_repaid'], axis=1).values\n",
    "y = df['loan_repaid'].values\n",
    "\n",
    "train_x, test_x, train_y, test_y = train_test_split(x, y, test_size=0.3, random_state=101)\n",
    "\n",
    "# Scale data\n",
    "scaler = MinMaxScaler()\n",
    "train_x = scaler.fit_transform(train_x)\n",
    "test_x = scaler.transform(test_x)"
   ]
  },
  {
   "cell_type": "code",
   "execution_count": null,
   "id": "523a3d66",
   "metadata": {},
   "outputs": [],
   "source": [
    "# Build neural network\n",
    "from tensorflow.keras.models import Sequential\n",
    "from tensorflow.keras.layers import Dense, Dropout\n",
    "\n",
    "model = Sequential()\n",
    "model.add(Dense(78, activation='relu'))\n",
    "model.add(Dropout(0.2))\n",
    "model.add(Dense(39, activation='relu'))\n",
    "model.add(Dropout(0.2))\n",
    "model.add(Dense(19, activation='relu'))\n",
    "model.add(Dropout(0.2))\n",
    "model.add(Dense(1, activation='sigmoid'))\n",
    "\n",
    "model.compile(loss='binary_crossentropy', optimizer='adam')\n",
    "model.fit(train_x, train_y, epochs=25, batch_size=256, validation_data=(test_x, test_y))"
   ]
  },
  {
   "cell_type": "code",
   "execution_count": null,
   "id": "c58727b2",
   "metadata": {},
   "outputs": [],
   "source": [
    "# Evaluate model\n",
    "losses = pd.DataFrame(model.history.history)\n",
    "losses.plot()\n",
    "\n",
    "from sklearn.metrics import classification_report, confusion_matrix\n",
    "predictions = (model.predict(test_x) > 0.5).astype(\"int32\")\n",
    "print(classification_report(test_y, predictions))\n",
    "print(confusion_matrix(test_y, predictions))"
   ]
  },
  {
   "cell_type": "code",
   "execution_count": null,
   "id": "63c4b907",
   "metadata": {},
   "outputs": [],
   "source": [
    "# Predict for a random customer\n",
    "import random\n",
    "random.seed(101)\n",
    "random_ind = random.randint(0, len(df))\n",
    "new_customer = df.drop('loan_repaid', axis=1).iloc[random_ind]\n",
    "new_customer = scaler.transform(new_customer.values.reshape(1, -1))\n",
    "\n",
    "print(\"Prediction for new customer:\", model.predict(new_customer))\n",
    "print(\"Actual repayment status:\", df.iloc[random_ind]['loan_repaid'])"
   ]
  }
 ],
 "metadata": {},
 "nbformat": 4,
 "nbformat_minor": 5
}